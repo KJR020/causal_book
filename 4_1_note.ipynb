{
 "cells": [
  {
   "attachments": {},
   "cell_type": "markdown",
   "metadata": {},
   "source": [
    "# 4.1 回帰分析による因果推論"
   ]
  },
  {
   "attachments": {},
   "cell_type": "markdown",
   "metadata": {},
   "source": [
    "## プログラム実行前の設定など"
   ]
  },
  {
   "cell_type": "code",
   "execution_count": 1,
   "metadata": {},
   "outputs": [],
   "source": [
    "# 乱数のシードを設定\n",
    "import random\n",
    "import numpy as np\n",
    "\n",
    "np.random.seed(1234)\n",
    "random.seed(1234)"
   ]
  },
  {
   "cell_type": "code",
   "execution_count": 2,
   "metadata": {},
   "outputs": [],
   "source": [
    "# 使用するパッケージを定義\n",
    "from numpy.random import *\n",
    "import matplotlib.pyplot as plt\n",
    "import scipy.stats\n",
    "from scipy.special import expit\n",
    "import pandas as pd"
   ]
  },
  {
   "attachments": {},
   "cell_type": "markdown",
   "metadata": {},
   "source": [
    "## データの作成"
   ]
  },
  {
   "cell_type": "code",
   "execution_count": 3,
   "metadata": {},
   "outputs": [],
   "source": [
    "num_data = 200\n",
    "\n",
    "# 年齢\n",
    "x_1 = randint(15,76, num_data)\n",
    "\n",
    "# 性別\n",
    "x_2 = randint(0,2, num_data)"
   ]
  },
  {
   "attachments": {},
   "cell_type": "markdown",
   "metadata": {},
   "source": [
    "## テレビCMをみたかどうか"
   ]
  },
  {
   "cell_type": "code",
   "execution_count": 7,
   "metadata": {},
   "outputs": [],
   "source": [
    "# ノイズの生成\n",
    "e_z = randn(num_data)\n",
    "\n",
    "# シグモイド関数に入れる関数\n",
    "z_base = x_1 + (1-x_2)*10 - 40 + 5*e_z\n",
    "\n",
    "# シグモイド関数を計算\n",
    "z_prob = expit(0.1*z_base)\n",
    "\n",
    "# テレビCMを見たかどうかの変数(0は見ていない,1は見た)\n",
    "Z = np.array([])\n",
    "\n",
    "for i in range(num_data):\n",
    "    Z_i = np.random.choice(2, size=1, p=[1-z_prob[i], z_prob[i]])[0]\n",
    "    Z = np.append(Z, Z_i)"
   ]
  },
  {
   "attachments": {},
   "cell_type": "markdown",
   "metadata": {},
   "source": [
    "## 購入量Yを生成"
   ]
  },
  {
   "cell_type": "code",
   "execution_count": 8,
   "metadata": {},
   "outputs": [],
   "source": [
    "# ノイズの生成\n",
    "e_y = randn(num_data)\n",
    "\n",
    "Y = -x_1 + 30*x_2 + 10*Z + 80 + 10*e_y"
   ]
  },
  {
   "attachments": {},
   "cell_type": "markdown",
   "metadata": {},
   "source": [
    "## データをまとめた表を作成し、平均値を比べる"
   ]
  },
  {
   "cell_type": "code",
   "execution_count": 9,
   "metadata": {},
   "outputs": [
    {
     "data": {
      "text/html": [
       "<div>\n",
       "<style scoped>\n",
       "    .dataframe tbody tr th:only-of-type {\n",
       "        vertical-align: middle;\n",
       "    }\n",
       "\n",
       "    .dataframe tbody tr th {\n",
       "        vertical-align: top;\n",
       "    }\n",
       "\n",
       "    .dataframe thead th {\n",
       "        text-align: right;\n",
       "    }\n",
       "</style>\n",
       "<table border=\"1\" class=\"dataframe\">\n",
       "  <thead>\n",
       "    <tr style=\"text-align: right;\">\n",
       "      <th></th>\n",
       "      <th>年齢</th>\n",
       "      <th>性別</th>\n",
       "      <th>CMを見た</th>\n",
       "      <th>購入量</th>\n",
       "    </tr>\n",
       "  </thead>\n",
       "  <tbody>\n",
       "    <tr>\n",
       "      <th>0</th>\n",
       "      <td>62</td>\n",
       "      <td>0</td>\n",
       "      <td>1.0</td>\n",
       "      <td>42.128620</td>\n",
       "    </tr>\n",
       "    <tr>\n",
       "      <th>1</th>\n",
       "      <td>34</td>\n",
       "      <td>0</td>\n",
       "      <td>0.0</td>\n",
       "      <td>59.217174</td>\n",
       "    </tr>\n",
       "    <tr>\n",
       "      <th>2</th>\n",
       "      <td>53</td>\n",
       "      <td>1</td>\n",
       "      <td>1.0</td>\n",
       "      <td>45.555485</td>\n",
       "    </tr>\n",
       "    <tr>\n",
       "      <th>3</th>\n",
       "      <td>68</td>\n",
       "      <td>1</td>\n",
       "      <td>1.0</td>\n",
       "      <td>62.237225</td>\n",
       "    </tr>\n",
       "    <tr>\n",
       "      <th>4</th>\n",
       "      <td>27</td>\n",
       "      <td>1</td>\n",
       "      <td>0.0</td>\n",
       "      <td>91.239232</td>\n",
       "    </tr>\n",
       "  </tbody>\n",
       "</table>\n",
       "</div>"
      ],
      "text/plain": [
       "   年齢  性別  CMを見た        購入量\n",
       "0  62   0    1.0  42.128620\n",
       "1  34   0    0.0  59.217174\n",
       "2  53   1    1.0  45.555485\n",
       "3  68   1    1.0  62.237225\n",
       "4  27   1    0.0  91.239232"
      ]
     },
     "execution_count": 9,
     "metadata": {},
     "output_type": "execute_result"
    }
   ],
   "source": [
    "df = pd.DataFrame({'年齢': x_1,\n",
    "                   '性別': x_2,\n",
    "                   'CMを見た': Z,\n",
    "                   '購入量': Y,\n",
    "                   })\n",
    "\n",
    "df.head()  # 先頭を表示"
   ]
  },
  {
   "cell_type": "code",
   "execution_count": 10,
   "metadata": {},
   "outputs": [
    {
     "name": "stdout",
     "output_type": "stream",
     "text": [
      "年齢       55.976378\n",
      "性別        0.511811\n",
      "CMを見た     1.000000\n",
      "購入量      49.498325\n",
      "dtype: float64\n",
      "--------\n",
      "年齢       30.273973\n",
      "性別        0.657534\n",
      "CMを見た     0.000000\n",
      "購入量      69.207464\n",
      "dtype: float64\n"
     ]
    }
   ],
   "source": [
    "# 平均値を比べる\n",
    "\n",
    "print(df[df[\"CMを見た\"] == 1.0].mean())\n",
    "print(\"--------\")\n",
    "print(df[df[\"CMを見た\"] == 0.0].mean())\n"
   ]
  },
  {
   "attachments": {},
   "cell_type": "markdown",
   "metadata": {},
   "source": [
    "## 回帰分析を実施"
   ]
  },
  {
   "cell_type": "code",
   "execution_count": 12,
   "metadata": {},
   "outputs": [
    {
     "name": "stdout",
     "output_type": "stream",
     "text": [
      "係数： [-0.94339193 32.03619846  9.20672113]\n"
     ]
    }
   ],
   "source": [
    "from sklearn.linear_model import LinearRegression\n",
    "\n",
    "# 説明変数\n",
    "X = df[[\"年齢\", \"性別\", \"CMを見た\"]]\n",
    "\n",
    "# 被説明変数(目的変数)\n",
    "y = df[\"購入量\"]\n",
    "\n",
    "# 回帰の実施\n",
    "reg = LinearRegression().fit(X,y)\n",
    "\n",
    "# 回帰した結果の係数を出力\n",
    "print(\"係数：\", reg.coef_)"
   ]
  },
  {
   "cell_type": "code",
   "execution_count": null,
   "metadata": {},
   "outputs": [],
   "source": []
  },
  {
   "cell_type": "code",
   "execution_count": null,
   "metadata": {},
   "outputs": [],
   "source": []
  }
 ],
 "metadata": {
  "kernelspec": {
   "display_name": "base",
   "language": "python",
   "name": "python3"
  },
  "language_info": {
   "codemirror_mode": {
    "name": "ipython",
    "version": 3
   },
   "file_extension": ".py",
   "mimetype": "text/x-python",
   "name": "python",
   "nbconvert_exporter": "python",
   "pygments_lexer": "ipython3",
   "version": "3.7.12"
  },
  "orig_nbformat": 4
 },
 "nbformat": 4,
 "nbformat_minor": 2
}
