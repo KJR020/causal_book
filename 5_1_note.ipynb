{
 "cells": [
  {
   "cell_type": "code",
   "execution_count": 15,
   "metadata": {},
   "outputs": [],
   "source": [
    "import random\n",
    "import numpy as np\n",
    "\n",
    "np.random.seed(1234)\n",
    "random.seed(1234)"
   ]
  },
  {
   "cell_type": "code",
   "execution_count": 4,
   "metadata": {},
   "outputs": [],
   "source": [
    "from numpy.random import *\n",
    "import matplotlib.pyplot as plt\n",
    "import scipy.stats\n",
    "from scipy.special import expit\n",
    "import pandas as pd"
   ]
  },
  {
   "cell_type": "code",
   "execution_count": 16,
   "metadata": {},
   "outputs": [],
   "source": [
    "num_data = 200\n",
    "\n",
    "x_1 = randint(15,76, num_data)\n",
    "x_2 = randint(0,2, num_data)"
   ]
  },
  {
   "cell_type": "code",
   "execution_count": 17,
   "metadata": {},
   "outputs": [],
   "source": [
    "e_z = randn(num_data)\n",
    "\n",
    "z_base = x_1 + (1-x_2)*10 - 40 + 5*e_z\n",
    "z_prob = expit(0.1*z_base)\n",
    "\n",
    "Z = np.array([])\n",
    "\n",
    "for i in range(num_data):\n",
    "    Z_i = np.random.choice(2, size=1, p=(1-z_prob[i], z_prob[i]))[0]\n",
    "    Z = np.append(Z, Z_i)    "
   ]
  },
  {
   "cell_type": "code",
   "execution_count": 18,
   "metadata": {},
   "outputs": [],
   "source": [
    "# ノイズの生成\n",
    "e_y = randn(num_data)\n",
    "Y = -x_1 + 30*x_2 + 10*Z + 80 + 10*e_y"
   ]
  },
  {
   "cell_type": "code",
   "execution_count": 19,
   "metadata": {},
   "outputs": [
    {
     "data": {
      "text/html": [
       "<div>\n",
       "<style scoped>\n",
       "    .dataframe tbody tr th:only-of-type {\n",
       "        vertical-align: middle;\n",
       "    }\n",
       "\n",
       "    .dataframe tbody tr th {\n",
       "        vertical-align: top;\n",
       "    }\n",
       "\n",
       "    .dataframe thead th {\n",
       "        text-align: right;\n",
       "    }\n",
       "</style>\n",
       "<table border=\"1\" class=\"dataframe\">\n",
       "  <thead>\n",
       "    <tr style=\"text-align: right;\">\n",
       "      <th></th>\n",
       "      <th>年齢</th>\n",
       "      <th>性別</th>\n",
       "      <th>CMを見た</th>\n",
       "      <th>購入量</th>\n",
       "    </tr>\n",
       "  </thead>\n",
       "  <tbody>\n",
       "    <tr>\n",
       "      <th>0</th>\n",
       "      <td>62</td>\n",
       "      <td>0</td>\n",
       "      <td>1.0</td>\n",
       "      <td>24.464285</td>\n",
       "    </tr>\n",
       "    <tr>\n",
       "      <th>1</th>\n",
       "      <td>34</td>\n",
       "      <td>0</td>\n",
       "      <td>0.0</td>\n",
       "      <td>45.693411</td>\n",
       "    </tr>\n",
       "    <tr>\n",
       "      <th>2</th>\n",
       "      <td>53</td>\n",
       "      <td>1</td>\n",
       "      <td>1.0</td>\n",
       "      <td>64.998281</td>\n",
       "    </tr>\n",
       "    <tr>\n",
       "      <th>3</th>\n",
       "      <td>68</td>\n",
       "      <td>1</td>\n",
       "      <td>1.0</td>\n",
       "      <td>47.186898</td>\n",
       "    </tr>\n",
       "    <tr>\n",
       "      <th>4</th>\n",
       "      <td>27</td>\n",
       "      <td>1</td>\n",
       "      <td>0.0</td>\n",
       "      <td>100.114260</td>\n",
       "    </tr>\n",
       "  </tbody>\n",
       "</table>\n",
       "</div>"
      ],
      "text/plain": [
       "   年齢  性別  CMを見た         購入量\n",
       "0  62   0    1.0   24.464285\n",
       "1  34   0    0.0   45.693411\n",
       "2  53   1    1.0   64.998281\n",
       "3  68   1    1.0   47.186898\n",
       "4  27   1    0.0  100.114260"
      ]
     },
     "execution_count": 19,
     "metadata": {},
     "output_type": "execute_result"
    }
   ],
   "source": [
    "df = pd.DataFrame({'年齢': x_1,\n",
    "                   '性別': x_2,\n",
    "                   'CMを見た': Z,\n",
    "                   '購入量': Y,\n",
    "                   })\n",
    "\n",
    "df.head()  # 先頭を表示\n"
   ]
  },
  {
   "cell_type": "code",
   "execution_count": 20,
   "metadata": {},
   "outputs": [
    {
     "name": "stdout",
     "output_type": "stream",
     "text": [
      "年齢       55.836066\n",
      "性別        0.483607\n",
      "CMを見た     1.000000\n",
      "購入量      49.711478\n",
      "dtype: float64\n",
      "-----\n",
      "年齢       32.141026\n",
      "性別        0.692308\n",
      "CMを見た     0.000000\n",
      "購入量      68.827143\n",
      "dtype: float64\n"
     ]
    }
   ],
   "source": [
    "# 平均値を比べる\n",
    "\n",
    "print(df[df[\"CMを見た\"] == 1.0].mean())\n",
    "print(\"-----\")\n",
    "print(df[df[\"CMを見た\"] == 0.0].mean())"
   ]
  },
  {
   "attachments": {},
   "cell_type": "markdown",
   "metadata": {},
   "source": [
    "## 決定木で分類"
   ]
  },
  {
   "cell_type": "code",
   "execution_count": 21,
   "metadata": {},
   "outputs": [
    {
     "name": "stdout",
     "output_type": "stream",
     "text": [
      "深さ1の性能： 0.85\n",
      "深さ2の性能： 0.85\n",
      "深さ3の性能： 0.825\n"
     ]
    }
   ],
   "source": [
    "from sklearn.tree import DecisionTreeClassifier\n",
    "from sklearn.model_selection import train_test_split\n",
    "\n",
    "X = df[[\"年齢\", \"性別\"]]\n",
    "Z = df[\"CMを見た\"]\n",
    "\n",
    "# データを訓練と検証に分割\n",
    "X_train, X_val, Z_train, Z_val = train_test_split(X,Z, train_size=0.6, random_state=0)\n",
    "\n",
    "# 学習と性能検証\n",
    "clf = DecisionTreeClassifier(max_depth=1, random_state=0)\n",
    "clf.fit(X_train, Z_train)\n",
    "print(\"深さ1の性能：\", clf.score(X_val, Z_val))\n",
    "\n",
    "# 学習と性能確認\n",
    "clf = DecisionTreeClassifier(max_depth=2, random_state=0)\n",
    "clf.fit(X_train, Z_train)\n",
    "print(\"深さ2の性能：\", clf.score(X_val, Z_val))\n",
    "\n",
    "# 学習と性能確認\n",
    "clf = DecisionTreeClassifier(max_depth=3, random_state=0)\n",
    "clf.fit(X_train, Z_train)\n",
    "print(\"深さ3の性能：\", clf.score(X_val, Z_val))"
   ]
  },
  {
   "attachments": {},
   "cell_type": "markdown",
   "metadata": {},
   "source": [
    "## 決定木で回帰"
   ]
  },
  {
   "cell_type": "code",
   "execution_count": 23,
   "metadata": {},
   "outputs": [
    {
     "name": "stdout",
     "output_type": "stream",
     "text": [
      "深さ2の性能： 0.7257496664596153\n",
      "深さ3の性能： 0.7399348963931736\n",
      "深さ4の性能： 0.7165539691159017\n"
     ]
    }
   ],
   "source": [
    "from sklearn.tree import DecisionTreeRegressor\n",
    "from sklearn.model_selection import train_test_split\n",
    "\n",
    "# 説明変数\n",
    "X = df[['年齢', '性別']]\n",
    "\n",
    "# 被説明変数（目的変数）\n",
    "Y = df['購入量']\n",
    "\n",
    "# データを訓練と検証に分割\n",
    "X_train, X_val, Y_train, Y_val = train_test_split(X, Y, train_size=0.6, random_state=0)\n",
    "\n",
    "# 学習と性能評価\n",
    "reg = DecisionTreeRegressor(max_depth=2, random_state=0)\n",
    "reg = reg.fit(X_train, Y_train)\n",
    "print(\"深さ2の性能：\", reg.score(X_val, Y_val))\n",
    "\n",
    "# 学習と性能評価\n",
    "reg = DecisionTreeRegressor(max_depth=3, random_state=0)\n",
    "reg = reg.fit(X_train, Y_train)\n",
    "print(\"深さ3の性能：\", reg.score(X_val, Y_val))\n",
    "\n",
    "# 学習と性能評価\n",
    "reg = DecisionTreeRegressor(max_depth=4, random_state=0)\n",
    "reg = reg.fit(X_train, Y_train)\n",
    "print(\"深さ4の性能：\", reg.score(X_val, Y_val))"
   ]
  },
  {
   "attachments": {},
   "cell_type": "markdown",
   "metadata": {},
   "source": [
    "## ランダムフォレストで分類"
   ]
  },
  {
   "cell_type": "code",
   "execution_count": 25,
   "metadata": {},
   "outputs": [
    {
     "name": "stdout",
     "output_type": "stream",
     "text": [
      "深さ1の性能： 0.775\n",
      "深さ2の性能： 0.85\n",
      "深さ3の性能： 0.825\n"
     ]
    }
   ],
   "source": [
    "from sklearn.ensemble import RandomForestClassifier\n",
    "from sklearn.model_selection import train_test_split\n",
    "\n",
    "# 説明変数\n",
    "X = df[[\"年齢\", \"性別\"]]\n",
    "Z = df[\"CMを見た\"]\n",
    "\n",
    "# データを訓練と検証に分割\n",
    "X_train, X_val, Z_train, Z_val = train_test_split(X,Z, train_size=0.6, random_state=0)\n",
    "\n",
    "# 学習と性能確認\n",
    "clf = RandomForestClassifier(max_depth=1, random_state=0)\n",
    "clf.fit(X_train, Z_train)\n",
    "print(\"深さ1の性能：\", clf.score(X_val, Z_val))\n",
    "\n",
    "# 学習と性能確認\n",
    "clf = RandomForestClassifier(max_depth=2, random_state=0)\n",
    "clf.fit(X_train, Z_train)\n",
    "print(\"深さ2の性能：\", clf.score(X_val, Z_val))\n",
    "\n",
    "# 学習と性能確認\n",
    "clf = RandomForestClassifier(max_depth=3, random_state=0)\n",
    "clf.fit(X_train, Z_train)\n",
    "print(\"深さ3の性能：\", clf.score(X_val, Z_val))"
   ]
  },
  {
   "attachments": {},
   "cell_type": "markdown",
   "metadata": {},
   "source": [
    "## ランダムフォレストで回帰"
   ]
  },
  {
   "cell_type": "code",
   "execution_count": 26,
   "metadata": {},
   "outputs": [
    {
     "name": "stdout",
     "output_type": "stream",
     "text": [
      "深さ2の性能： 0.7618786062003249\n",
      "深さ3の性能： 0.7810610687821997\n",
      "深さ4の性能： 0.7655149049335737\n"
     ]
    }
   ],
   "source": [
    "from sklearn.ensemble import RandomForestRegressor\n",
    "from sklearn.model_selection import train_test_split\n",
    "\n",
    "# 説明変数\n",
    "X = df[['年齢', '性別']]\n",
    "\n",
    "# 被説明変数（目的変数）\n",
    "Y = df['購入量']\n",
    "\n",
    "# データを訓練と検証に分割\n",
    "X_train, X_val, Y_train, Y_val = train_test_split(X, Y, train_size=0.6, random_state=0)\n",
    "\n",
    "# 学習と性能評価\n",
    "reg = RandomForestRegressor(max_depth=2, random_state=0)\n",
    "reg = reg.fit(X_train, Y_train)\n",
    "print(\"深さ2の性能：\", reg.score(X_val, Y_val))\n",
    "\n",
    "# 学習と性能評価\n",
    "reg = RandomForestRegressor(max_depth=3, random_state=0)\n",
    "reg = reg.fit(X_train, Y_train)\n",
    "print(\"深さ3の性能：\", reg.score(X_val, Y_val))\n",
    "\n",
    "# 学習と性能評価\n",
    "reg = RandomForestRegressor(max_depth=4, random_state=0)\n",
    "reg = reg.fit(X_train, Y_train)\n",
    "print(\"深さ4の性能：\", reg.score(X_val, Y_val))"
   ]
  },
  {
   "cell_type": "code",
   "execution_count": null,
   "metadata": {},
   "outputs": [],
   "source": []
  }
 ],
 "metadata": {
  "kernelspec": {
   "display_name": "base",
   "language": "python",
   "name": "python3"
  },
  "language_info": {
   "codemirror_mode": {
    "name": "ipython",
    "version": 3
   },
   "file_extension": ".py",
   "mimetype": "text/x-python",
   "name": "python",
   "nbconvert_exporter": "python",
   "pygments_lexer": "ipython3",
   "version": "3.7.12"
  },
  "orig_nbformat": 4
 },
 "nbformat": 4,
 "nbformat_minor": 2
}
