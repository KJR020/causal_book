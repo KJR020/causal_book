{
  "nbformat": 4,
  "nbformat_minor": 0,
  "metadata": {
    "kernelspec": {
      "name": "python3",
      "display_name": "Python 3"
    },
    "colab": {
      "name": "7_5_bayesian_network_pc_algorithm_210410.ipynb",
      "provenance": [],
      "collapsed_sections": []
    }
  },
  "cells": [
    {
      "cell_type": "markdown",
      "metadata": {
        "id": "aoxI3DOK9vm2"
      },
      "source": [
        "# 7.5 PCアルゴリズムによるベイジアンネットワーク探索の実装\n",
        "\n",
        "本ファイルは、7.5節の実装です。\n",
        "\n",
        "5.3節で使用した人事研修の効果を拡張した模擬データを作成し、因果探索を実施します。"
      ]
    },
    {
      "cell_type": "markdown",
      "metadata": {
        "id": "2XdIDbdlejUk"
      },
      "source": [
        "## プログラム実行前の設定など"
      ]
    },
    {
      "cell_type": "code",
      "metadata": {
        "id": "XZFKJwcu-_Oj"
      },
      "source": [
        "# 乱数のシードを設定\n",
        "import random\n",
        "import numpy as np\n",
        "\n",
        "np.random.seed(1234)\n",
        "random.seed(1234)\n"
      ],
      "execution_count": 1,
      "outputs": []
    },
    {
      "cell_type": "code",
      "metadata": {
        "id": "hx1idArc_F15"
      },
      "source": [
        "# 使用するパッケージ（ライブラリと関数）を定義\n",
        "# 標準正規分布の生成用\n",
        "from numpy.random import *\n",
        "\n",
        "# グラフの描画用\n",
        "import matplotlib.pyplot as plt\n",
        "\n",
        "# SciPy 平均0、分散1に正規化（標準化）関数\n",
        "import scipy.stats\n",
        "\n",
        "# シグモイド関数をimport\n",
        "from scipy.special import expit\n",
        "\n",
        "# その他\n",
        "import pandas as pd\n"
      ],
      "execution_count": 2,
      "outputs": []
    },
    {
      "cell_type": "markdown",
      "metadata": {
        "id": "AWqP6yeQlI_t"
      },
      "source": [
        "## データの作成"
      ]
    },
    {
      "cell_type": "code",
      "metadata": {
        "id": "DpnGB2KZ_L8x"
      },
      "source": [
        "# データ数\n",
        "num_data = 2000\n",
        "\n",
        "# 部下育成への熱心さ\n",
        "x = np.random.uniform(low=-1, high=1, size=num_data)  # -1から1の一様乱数\n",
        "\n",
        "# 上司が「上司向け：部下とのキャリア面談のポイント研修」に参加したかどうか\n",
        "e_z = randn(num_data)  # ノイズの生成\n",
        "\n",
        "# z_prob = expit(-5.0*x+5*e_z)\n",
        "z_prob = expit(5.0*x+5*e_z)  # Issue18での指摘。符号が逆だったので修正\n",
        "\n",
        "Z = np.array([])\n",
        "\n",
        "# 上司が「上司向け：部下とのキャリア面談のポイント研修」に参加したかどうか\n",
        "for i in range(num_data):\n",
        "    Z_i = np.random.choice(2, size=1, p=[1-z_prob[i], z_prob[i]])[0]\n",
        "    Z = np.append(Z, Z_i)\n",
        "\n",
        "# 介入効果の非線形性：部下育成の熱心さxの値に応じて段階的に変化\n",
        "t = np.zeros(num_data)\n",
        "for i in range(num_data):\n",
        "    if x[i] < 0:\n",
        "        t[i] = 0.5\n",
        "    elif x[i] >= 0 and x[i] < 0.5:\n",
        "        t[i] = 0.7\n",
        "    elif x[i] >= 0.5:\n",
        "        t[i] = 1.0\n",
        "\n",
        "e_y = randn(num_data)\n",
        "\n",
        "# Y = 2.0 + t*Z + 0.3*x + 0.1*e_y \n",
        "Y = 2.0 + t*Z + 0.3*x + 0.2*e_y  # 21年4月10日変更"
      ],
      "execution_count": 3,
      "outputs": []
    },
    {
      "cell_type": "code",
      "metadata": {
        "id": "RwfHdcKFzL8o"
      },
      "source": [
        "# 本章からの追加データを生成\n",
        "\n",
        "# Y2：部下当人のチームメンバへの満足度 1から5の5段階\n",
        "Y2 = np.random.choice([1.0, 2.0, 3.0, 4.0, 5.0],\n",
        "                      num_data, p=[0.1, 0.2, 0.3, 0.2, 0.2])\n",
        "\n",
        "# Y3：部下当人の仕事への満足度\n",
        "e_y3 = randn(num_data)\n",
        "# Y3 = 4*Y + Y2 + e_y3\n",
        "# ※初版、第2版は20/7/24に変更\n",
        "Y3 = 3*Y + Y2 + e_y3\n",
        "\n",
        "\n",
        "# Y4：部下当人の仕事のパフォーマンス\n",
        "e_y4 = randn(num_data)\n",
        "Y4 = 3*Y3 + 5 + 2*e_y4 \n"
      ],
      "execution_count": 4,
      "outputs": []
    },
    {
      "cell_type": "markdown",
      "metadata": {
        "id": "BHcdUlW9koTa"
      },
      "source": [
        "## データをまとめた表を作成し、可視化する"
      ]
    },
    {
      "cell_type": "code",
      "metadata": {
        "id": "1EMwdGIIIPrK",
        "colab": {
          "base_uri": "https://localhost:8080/",
          "height": 195
        },
        "outputId": "1c79610e-c65f-4dda-b9b3-de91551e4b9a"
      },
      "source": [
        "df = pd.DataFrame({'x': x,\n",
        "                   'Z': Z,\n",
        "                   't': t,\n",
        "                   'Y': Y,\n",
        "                   'Y2': Y2,\n",
        "                   'Y3': Y3,\n",
        "                   'Y4': Y4,\n",
        "                   })\n",
        "\n",
        "df.head()  # 先頭を表示\n"
      ],
      "execution_count": 5,
      "outputs": [
        {
          "output_type": "execute_result",
          "data": {
            "text/html": [
              "<div>\n",
              "<style scoped>\n",
              "    .dataframe tbody tr th:only-of-type {\n",
              "        vertical-align: middle;\n",
              "    }\n",
              "\n",
              "    .dataframe tbody tr th {\n",
              "        vertical-align: top;\n",
              "    }\n",
              "\n",
              "    .dataframe thead th {\n",
              "        text-align: right;\n",
              "    }\n",
              "</style>\n",
              "<table border=\"1\" class=\"dataframe\">\n",
              "  <thead>\n",
              "    <tr style=\"text-align: right;\">\n",
              "      <th></th>\n",
              "      <th>x</th>\n",
              "      <th>Z</th>\n",
              "      <th>t</th>\n",
              "      <th>Y</th>\n",
              "      <th>Y2</th>\n",
              "      <th>Y3</th>\n",
              "      <th>Y4</th>\n",
              "    </tr>\n",
              "  </thead>\n",
              "  <tbody>\n",
              "    <tr>\n",
              "      <th>0</th>\n",
              "      <td>-0.616961</td>\n",
              "      <td>0.0</td>\n",
              "      <td>0.5</td>\n",
              "      <td>1.758937</td>\n",
              "      <td>2.0</td>\n",
              "      <td>7.148582</td>\n",
              "      <td>25.574621</td>\n",
              "    </tr>\n",
              "    <tr>\n",
              "      <th>1</th>\n",
              "      <td>0.244218</td>\n",
              "      <td>1.0</td>\n",
              "      <td>0.7</td>\n",
              "      <td>2.956007</td>\n",
              "      <td>3.0</td>\n",
              "      <td>11.018072</td>\n",
              "      <td>37.971354</td>\n",
              "    </tr>\n",
              "    <tr>\n",
              "      <th>2</th>\n",
              "      <td>-0.124545</td>\n",
              "      <td>0.0</td>\n",
              "      <td>0.5</td>\n",
              "      <td>2.434394</td>\n",
              "      <td>3.0</td>\n",
              "      <td>11.276799</td>\n",
              "      <td>40.604093</td>\n",
              "    </tr>\n",
              "    <tr>\n",
              "      <th>3</th>\n",
              "      <td>0.570717</td>\n",
              "      <td>1.0</td>\n",
              "      <td>1.0</td>\n",
              "      <td>3.289929</td>\n",
              "      <td>3.0</td>\n",
              "      <td>12.490597</td>\n",
              "      <td>44.243442</td>\n",
              "    </tr>\n",
              "    <tr>\n",
              "      <th>4</th>\n",
              "      <td>0.559952</td>\n",
              "      <td>1.0</td>\n",
              "      <td>1.0</td>\n",
              "      <td>3.750548</td>\n",
              "      <td>5.0</td>\n",
              "      <td>16.292582</td>\n",
              "      <td>52.455468</td>\n",
              "    </tr>\n",
              "  </tbody>\n",
              "</table>\n",
              "</div>"
            ],
            "text/plain": [
              "          x    Z    t         Y   Y2         Y3         Y4\n",
              "0 -0.616961  0.0  0.5  1.758937  2.0   7.148582  25.574621\n",
              "1  0.244218  1.0  0.7  2.956007  3.0  11.018072  37.971354\n",
              "2 -0.124545  0.0  0.5  2.434394  3.0  11.276799  40.604093\n",
              "3  0.570717  1.0  1.0  3.289929  3.0  12.490597  44.243442\n",
              "4  0.559952  1.0  1.0  3.750548  5.0  16.292582  52.455468"
            ]
          },
          "metadata": {
            "tags": []
          },
          "execution_count": 5
        }
      ]
    },
    {
      "cell_type": "code",
      "metadata": {
        "id": "L6Tb2Hjk9vno",
        "colab": {
          "base_uri": "https://localhost:8080/",
          "height": 282
        },
        "outputId": "03e0cf5c-1999-4b07-a7bf-73ce9f38a2b7"
      },
      "source": [
        "# グラフで確認\n",
        "plt.scatter(x, Y)\n"
      ],
      "execution_count": 6,
      "outputs": [
        {
          "output_type": "execute_result",
          "data": {
            "text/plain": [
              "<matplotlib.collections.PathCollection at 0x7f01fad09b90>"
            ]
          },
          "metadata": {
            "tags": []
          },
          "execution_count": 6
        },
        {
          "output_type": "display_data",
          "data": {
            "image/png": "[encoded data removed]",
            "text/plain": [
              "<Figure size 432x288 with 1 Axes>"
            ]
          },
          "metadata": {
            "tags": [],
            "needs_background": "light"
          }
        }
      ]
    },
    {
      "cell_type": "code",
      "metadata": {
        "id": "zpUlt74J0jq-",
        "colab": {
          "base_uri": "https://localhost:8080/",
          "height": 282
        },
        "outputId": "6fa66646-386e-4bff-cb82-4bed8798b71d"
      },
      "source": [
        "# グラフで確認\n",
        "plt.scatter(x, Y2)\n"
      ],
      "execution_count": 7,
      "outputs": [
        {
          "output_type": "execute_result",
          "data": {
            "text/plain": [
              "<matplotlib.collections.PathCollection at 0x7f01fa7cc710>"
            ]
          },
          "metadata": {
            "tags": []
          },
          "execution_count": 7
        },
        {
          "output_type": "display_data",
          "data": {
            "image/png": "[encoded data removed]",
            "text/plain": [
              "<Figure size 432x288 with 1 Axes>"
            ]
          },
          "metadata": {
            "tags": [],
            "needs_background": "light"
          }
        }
      ]
    },
    {
      "cell_type": "code",
      "metadata": {
        "id": "UlLscNMF0ndN",
        "colab": {
          "base_uri": "https://localhost:8080/",
          "height": 282
        },
        "outputId": "e5faf295-690c-4342-e810-3781c766774b"
      },
      "source": [
        "# グラフで確認\n",
        "plt.scatter(x, Y3)\n"
      ],
      "execution_count": 8,
      "outputs": [
        {
          "output_type": "execute_result",
          "data": {
            "text/plain": [
              "<matplotlib.collections.PathCollection at 0x7f01fa7537d0>"
            ]
          },
          "metadata": {
            "tags": []
          },
          "execution_count": 8
        },
        {
          "output_type": "display_data",
          "data": {
            "image/png": "[encoded data removed]",
            "text/plain": [
              "<Figure size 432x288 with 1 Axes>"
            ]
          },
          "metadata": {
            "tags": [],
            "needs_background": "light"
          }
        }
      ]
    },
    {
      "cell_type": "code",
      "metadata": {
        "id": "y04PV60K0p25",
        "colab": {
          "base_uri": "https://localhost:8080/",
          "height": 282
        },
        "outputId": "0860bc63-95f9-4fea-bd18-418a4bcd3e14"
      },
      "source": [
        "# グラフで確認\n",
        "plt.scatter(x, Y4)\n"
      ],
      "execution_count": 9,
      "outputs": [
        {
          "output_type": "execute_result",
          "data": {
            "text/plain": [
              "<matplotlib.collections.PathCollection at 0x7f01fa727f10>"
            ]
          },
          "metadata": {
            "tags": []
          },
          "execution_count": 9
        },
        {
          "output_type": "display_data",
          "data": {
            "image/png": "[encoded data removed]",
            "text/plain": [
              "<Figure size 432x288 with 1 Axes>"
            ]
          },
          "metadata": {
            "tags": [],
            "needs_background": "light"
          }
        }
      ]
    },
    {
      "cell_type": "markdown",
      "metadata": {
        "id": "AeC7Uv29KsXC"
      },
      "source": [
        "## データをビンで区切る"
      ]
    },
    {
      "cell_type": "code",
      "metadata": {
        "id": "xp2P-IDT9vql",
        "colab": {
          "base_uri": "https://localhost:8080/"
        },
        "outputId": "bc3dfeab-6f10-46b0-d3db-c5e9802b264a"
      },
      "source": [
        "# ビン区切りの例\n",
        "# cutを使用すると閾値で区切れる\n",
        "# qcutを使用すると同じデータ数になるように区切る\n",
        "s_qcut, bins = pd.cut(df[\"Y\"], 5, labels=[1, 2, 3, 4, 5], retbins=True)\n",
        "\n",
        "print(s_qcut)\n",
        "print(\"=======\")\n",
        "print(bins)\n"
      ],
      "execution_count": 10,
      "outputs": [
        {
          "output_type": "stream",
          "text": [
            "0       2\n",
            "1       4\n",
            "2       3\n",
            "3       5\n",
            "4       5\n",
            "       ..\n",
            "1995    2\n",
            "1996    4\n",
            "1997    4\n",
            "1998    4\n",
            "1999    4\n",
            "Name: Y, Length: 2000, dtype: category\n",
            "Categories (5, int64): [1 < 2 < 3 < 4 < 5]\n",
            "=======\n",
            "[1.16273463 1.69391091 2.22244452 2.75097813 3.27951174 3.80804535]\n"
          ],
          "name": "stdout"
        }
      ]
    },
    {
      "cell_type": "code",
      "metadata": {
        "id": "xozAxa4I2kWo",
        "colab": {
          "base_uri": "https://localhost:8080/",
          "height": 195
        },
        "outputId": "0cad5163-89c1-4dec-f234-18386396188e"
      },
      "source": [
        "# データを区切る\n",
        "df_bin = df.copy()  # コピーしてビン区切りデータを入れる変数を作成\n",
        "del df_bin[\"t\"]  # 変数tは観測できないので削除\n",
        "\n",
        "# x：部下育成への熱心さ\n",
        "df_bin[\"x\"], x_bins = pd.cut(df[\"x\"], 5, labels=[1, 2, 3, 4, 5], retbins=True)\n",
        "\n",
        "# Z：上司が「上司向け：部下とのキャリア面談のポイント研修」に参加したかどうか\n",
        "# ※qcutではなく、cutで値に応じて分割\n",
        "df_bin[\"Z\"], z_bins = pd.cut(df[\"Z\"], 2, labels=[0, 1], retbins=True)\n",
        "\n",
        "# Y：部下の面談の満足度\n",
        "df_bin[\"Y\"], y_bins = pd.cut(df[\"Y\"], 5, labels=[1, 2, 3, 4, 5], retbins=True)\n",
        "\n",
        "# Y2：部下当人のチームメンバへの満足度 1から5の5段階\n",
        "# # ※qcutではなく、cutで値に応じて分割\n",
        "df_bin[\"Y2\"], y2_bins = pd.cut(\n",
        "    df[\"Y2\"], 5, labels=[1, 2, 3, 4, 5], retbins=True)\n",
        "\n",
        "# Y3：部下当人の仕事への満足度\n",
        "df_bin[\"Y3\"], y3_bins = pd.cut(\n",
        "    df[\"Y3\"], 5, labels=[1, 2, 3, 4, 5], retbins=True)\n",
        "\n",
        "# Y4：部下当人の仕事のパフォーマンス\n",
        "df_bin[\"Y4\"], y4_bins = pd.cut(\n",
        "    df[\"Y4\"], 5, labels=[1, 2, 3, 4, 5], retbins=True)\n",
        "\n",
        "# 確認\n",
        "df_bin.head()\n"
      ],
      "execution_count": 11,
      "outputs": [
        {
          "output_type": "execute_result",
          "data": {
            "text/html": [
              "<div>\n",
              "<style scoped>\n",
              "    .dataframe tbody tr th:only-of-type {\n",
              "        vertical-align: middle;\n",
              "    }\n",
              "\n",
              "    .dataframe tbody tr th {\n",
              "        vertical-align: top;\n",
              "    }\n",
              "\n",
              "    .dataframe thead th {\n",
              "        text-align: right;\n",
              "    }\n",
              "</style>\n",
              "<table border=\"1\" class=\"dataframe\">\n",
              "  <thead>\n",
              "    <tr style=\"text-align: right;\">\n",
              "      <th></th>\n",
              "      <th>x</th>\n",
              "      <th>Z</th>\n",
              "      <th>Y</th>\n",
              "      <th>Y2</th>\n",
              "      <th>Y3</th>\n",
              "      <th>Y4</th>\n",
              "    </tr>\n",
              "  </thead>\n",
              "  <tbody>\n",
              "    <tr>\n",
              "      <th>0</th>\n",
              "      <td>1</td>\n",
              "      <td>0</td>\n",
              "      <td>2</td>\n",
              "      <td>2</td>\n",
              "      <td>2</td>\n",
              "      <td>2</td>\n",
              "    </tr>\n",
              "    <tr>\n",
              "      <th>1</th>\n",
              "      <td>4</td>\n",
              "      <td>1</td>\n",
              "      <td>4</td>\n",
              "      <td>3</td>\n",
              "      <td>3</td>\n",
              "      <td>3</td>\n",
              "    </tr>\n",
              "    <tr>\n",
              "      <th>2</th>\n",
              "      <td>3</td>\n",
              "      <td>0</td>\n",
              "      <td>3</td>\n",
              "      <td>3</td>\n",
              "      <td>3</td>\n",
              "      <td>3</td>\n",
              "    </tr>\n",
              "    <tr>\n",
              "      <th>3</th>\n",
              "      <td>4</td>\n",
              "      <td>1</td>\n",
              "      <td>5</td>\n",
              "      <td>3</td>\n",
              "      <td>4</td>\n",
              "      <td>4</td>\n",
              "    </tr>\n",
              "    <tr>\n",
              "      <th>4</th>\n",
              "      <td>4</td>\n",
              "      <td>1</td>\n",
              "      <td>5</td>\n",
              "      <td>5</td>\n",
              "      <td>5</td>\n",
              "      <td>5</td>\n",
              "    </tr>\n",
              "  </tbody>\n",
              "</table>\n",
              "</div>"
            ],
            "text/plain": [
              "   x  Z  Y Y2 Y3 Y4\n",
              "0  1  0  2  2  2  2\n",
              "1  4  1  4  3  3  3\n",
              "2  3  0  3  3  3  3\n",
              "3  4  1  5  3  4  4\n",
              "4  4  1  5  5  5  5"
            ]
          },
          "metadata": {
            "tags": []
          },
          "execution_count": 11
        }
      ]
    },
    {
      "cell_type": "code",
      "metadata": {
        "id": "QD-T2c-VpUHq"
      },
      "source": [
        "#df_bin=df_bin.astype(int)"
      ],
      "execution_count": 12,
      "outputs": []
    },
    {
      "cell_type": "markdown",
      "metadata": {
        "id": "1TPIeXDg6QDG"
      },
      "source": [
        "## PCアルゴリズムを実施"
      ]
    },
    {
      "cell_type": "markdown",
      "metadata": {
        "id": "4TM2J5kq6GOx"
      },
      "source": [
        "## pgmpy（Python library for Probabilistic Graphical Models）によるPCアルゴリズム"
      ]
    },
    {
      "cell_type": "code",
      "metadata": {
        "id": "edNNPSLY6u6d",
        "colab": {
          "base_uri": "https://localhost:8080/"
        },
        "outputId": "4c498814-416e-4551-b787-59d98f725fa8"
      },
      "source": [
        "!pip install pgmpy==0.1.9"
      ],
      "execution_count": 13,
      "outputs": [
        {
          "output_type": "stream",
          "text": [
            "Requirement already satisfied: pgmpy==0.1.9 in /usr/local/lib/python3.7/dist-packages (0.1.9)\n"
          ],
          "name": "stdout"
        }
      ]
    },
    {
      "cell_type": "code",
      "metadata": {
        "id": "wAeHIJiqOF-h",
        "colab": {
          "base_uri": "https://localhost:8080/"
        },
        "outputId": "2f0afb4e-1267-4bbe-9633-901b366432c8"
      },
      "source": [
        "from pgmpy.estimators import ConstraintBasedEstimator\n",
        "\n",
        "est = ConstraintBasedEstimator(df_bin)\n",
        "\n",
        "# 0次の独立性の検定\n",
        "print(est.test_conditional_independence(\n",
        "    'x', 'Z', method=\"chi_square\", tol=0.05))\n",
        "print(est.test_conditional_independence(\n",
        "    'x', 'Y', method=\"chi_square\", tol=0.05))\n",
        "print(est.test_conditional_independence(\n",
        "    'x', 'Y2', method=\"chi_square\", tol=0.05))\n",
        "print(est.test_conditional_independence(\n",
        "    'x', 'Y3', method=\"chi_square\", tol=0.05))\n",
        "print(est.test_conditional_independence(\n",
        "    'x', 'Y4', method=\"chi_square\", tol=0.05))\n",
        "print(\"=====\")\n",
        "print(est.test_conditional_independence(\n",
        "    'Z', 'Y', method=\"chi_square\", tol=0.05))\n",
        "print(est.test_conditional_independence(\n",
        "    'Z', 'Y2', method=\"chi_square\", tol=0.05))\n",
        "print(est.test_conditional_independence(\n",
        "    'Z', 'Y3', method=\"chi_square\", tol=0.05))\n",
        "print(est.test_conditional_independence(\n",
        "    'Z', 'Y4', method=\"chi_square\", tol=0.05))\n",
        "print(\"=====\")\n",
        "print(est.test_conditional_independence(\n",
        "    'Y', 'Y2', method=\"chi_square\", tol=0.05))\n",
        "print(est.test_conditional_independence(\n",
        "    'Y', 'Y3', method=\"chi_square\", tol=0.05))\n",
        "print(est.test_conditional_independence(\n",
        "    'Y', 'Y4', method=\"chi_square\", tol=0.05))\n",
        "print(\"=====\")\n",
        "print(est.test_conditional_independence(\n",
        "    'Y2', 'Y3', method=\"chi_square\", tol=0.05))\n",
        "print(est.test_conditional_independence(\n",
        "    'Y2', 'Y4', method=\"chi_square\", tol=0.05))\n",
        "print(\"=====\")\n",
        "print(est.test_conditional_independence(\n",
        "    'Y3', 'Y4', method=\"chi_square\", tol=0.05))\n",
        "print(\"=====\")\n"
      ],
      "execution_count": 25,
      "outputs": [
        {
          "output_type": "stream",
          "text": [
            "False\n",
            "False\n",
            "True\n",
            "False\n",
            "False\n",
            "=====\n",
            "False\n",
            "True\n",
            "False\n",
            "False\n",
            "=====\n",
            "True\n",
            "False\n",
            "False\n",
            "=====\n",
            "False\n",
            "False\n",
            "=====\n",
            "False\n",
            "=====\n"
          ],
          "name": "stdout"
        }
      ]
    },
    {
      "cell_type": "code",
      "metadata": {
        "id": "sJQ2_9LY8MQ8",
        "colab": {
          "base_uri": "https://localhost:8080/"
        },
        "outputId": "5eb10e83-b107-467c-beed-1917c194f1c8"
      },
      "source": [
        "# 1次の独立性の検定 変数x\n",
        "print(est.test_conditional_independence(\n",
        "    'x', 'Z', ['Y'], method=\"chi_square\", tol=0.05))\n",
        "print(est.test_conditional_independence(\n",
        "    'x', 'Z', ['Y3'], method=\"chi_square\", tol=0.05))\n",
        "print(est.test_conditional_independence(\n",
        "    'x', 'Z', ['Y4'], method=\"chi_square\", tol=0.05))\n",
        "\n",
        "print(est.test_conditional_independence(\n",
        "    'x', 'Y', ['Z'], method=\"chi_square\", tol=0.05))\n",
        "print(est.test_conditional_independence(\n",
        "    'x', 'Y', ['Y3'], method=\"chi_square\", tol=0.05))\n",
        "print(est.test_conditional_independence(\n",
        "    'x', 'Y', ['Y4'], method=\"chi_square\", tol=0.05))\n",
        "\n",
        "print(est.test_conditional_independence(\n",
        "    'x', 'Y3', ['Z'], method=\"chi_square\", tol=0.05))\n",
        "print(est.test_conditional_independence(\n",
        "    'x', 'Y3', ['Y'], method=\"chi_square\", tol=0.05))\n",
        "print(est.test_conditional_independence(\n",
        "    'x', 'Y3', ['Y4'], method=\"chi_square\", tol=0.05))\n",
        "\n",
        "print(est.test_conditional_independence(\n",
        "    'x', 'Y4', ['Z'], method=\"chi_square\", tol=0.05))\n",
        "print(est.test_conditional_independence(\n",
        "    'x', 'Y4', ['Y'], method=\"chi_square\", tol=0.05))\n",
        "print(est.test_conditional_independence(\n",
        "    'x', 'Y4', ['Y3'], method=\"chi_square\", tol=0.05))\n"
      ],
      "execution_count": 26,
      "outputs": [
        {
          "output_type": "stream",
          "text": [
            "False\n",
            "False\n",
            "False\n",
            "False\n",
            "False\n",
            "False\n",
            "False\n",
            "True\n",
            "False\n",
            "False\n",
            "True\n",
            "True\n"
          ],
          "name": "stdout"
        }
      ]
    },
    {
      "cell_type": "code",
      "metadata": {
        "id": "lo-4p3vBR6tH",
        "colab": {
          "base_uri": "https://localhost:8080/"
        },
        "outputId": "02c154e6-05e1-42e9-980b-037e9303d679"
      },
      "source": [
        "# 1次の独立性の検定 変数Z\n",
        "print(est.test_conditional_independence(\n",
        "    'Z', 'x', ['Y'], method=\"chi_square\", tol=0.05))\n",
        "print(est.test_conditional_independence(\n",
        "    'Z', 'x', ['Y3'], method=\"chi_square\", tol=0.05))\n",
        "print(est.test_conditional_independence(\n",
        "    'Z', 'x', ['Y4'], method=\"chi_square\", tol=0.05))\n",
        "\n",
        "print(est.test_conditional_independence(\n",
        "    'Z', 'Y', ['x'], method=\"chi_square\", tol=0.05))\n",
        "print(est.test_conditional_independence(\n",
        "    'Z', 'Y', ['Y3'], method=\"chi_square\", tol=0.05))\n",
        "print(est.test_conditional_independence(\n",
        "    'Z', 'Y', ['Y4'], method=\"chi_square\", tol=0.05))\n",
        "\n",
        "print(est.test_conditional_independence(\n",
        "    'Z', 'Y3', ['x'], method=\"chi_square\", tol=0.05))\n",
        "print(est.test_conditional_independence(\n",
        "    'Z', 'Y3', ['Y'], method=\"chi_square\", tol=0.05))\n",
        "print(est.test_conditional_independence(\n",
        "    'Z', 'Y3', ['Y4'], method=\"chi_square\", tol=0.05))\n",
        "\n",
        "print(est.test_conditional_independence(\n",
        "    'Z', 'Y4', ['x'], method=\"chi_square\", tol=0.05))\n",
        "print(est.test_conditional_independence(\n",
        "    'Z', 'Y4', ['Y'], method=\"chi_square\", tol=0.05))\n",
        "print(est.test_conditional_independence(\n",
        "    'Z', 'Y4', ['Y3'], method=\"chi_square\", tol=0.05))\n"
      ],
      "execution_count": 27,
      "outputs": [
        {
          "output_type": "stream",
          "text": [
            "False\n",
            "False\n",
            "False\n",
            "False\n",
            "False\n",
            "False\n",
            "False\n",
            "True\n",
            "False\n",
            "False\n",
            "True\n",
            "True\n"
          ],
          "name": "stdout"
        }
      ]
    },
    {
      "cell_type": "code",
      "metadata": {
        "id": "5ULve2thDTHu",
        "colab": {
          "base_uri": "https://localhost:8080/"
        },
        "outputId": "a518c22d-f412-481e-ae1f-fb1a0b3f119c"
      },
      "source": [
        "# 1次の独立性の検定 変数Y\n",
        "print(est.test_conditional_independence(\n",
        "    'Y', 'x', ['Z'], method=\"chi_square\", tol=0.05))\n",
        "print(est.test_conditional_independence(\n",
        "    'Y', 'x', ['Y3'], method=\"chi_square\", tol=0.05))\n",
        "print(est.test_conditional_independence(\n",
        "    'Y', 'x', ['Y4'], method=\"chi_square\", tol=0.05))\n",
        "\n",
        "print(est.test_conditional_independence(\n",
        "    'Y', 'Z', ['x'], method=\"chi_square\", tol=0.05))\n",
        "print(est.test_conditional_independence(\n",
        "    'Y', 'Z', ['Y3'], method=\"chi_square\", tol=0.05))\n",
        "print(est.test_conditional_independence(\n",
        "    'Y', 'Z', ['Y4'], method=\"chi_square\", tol=0.05))\n",
        "\n",
        "print(est.test_conditional_independence(\n",
        "    'Y', 'Y3', ['x'], method=\"chi_square\", tol=0.05))\n",
        "print(est.test_conditional_independence(\n",
        "    'Y', 'Y3', ['Z'], method=\"chi_square\", tol=0.05))\n",
        "print(est.test_conditional_independence(\n",
        "    'Y', 'Y3', ['Y4'], method=\"chi_square\", tol=0.05))\n",
        "\n",
        "print(est.test_conditional_independence(\n",
        "    'Y', 'Y4', ['x'], method=\"chi_square\", tol=0.05))\n",
        "print(est.test_conditional_independence(\n",
        "    'Y', 'Y4', ['Z'], method=\"chi_square\", tol=0.05))\n",
        "print(est.test_conditional_independence(\n",
        "    'Y', 'Y4', ['Y3'], method=\"chi_square\", tol=0.05))\n"
      ],
      "execution_count": 28,
      "outputs": [
        {
          "output_type": "stream",
          "text": [
            "False\n",
            "False\n",
            "False\n",
            "False\n",
            "False\n",
            "False\n",
            "False\n",
            "False\n",
            "False\n",
            "False\n",
            "False\n",
            "False\n"
          ],
          "name": "stdout"
        }
      ]
    },
    {
      "cell_type": "code",
      "metadata": {
        "id": "NP1Kr8BjS4Wf",
        "colab": {
          "base_uri": "https://localhost:8080/"
        },
        "outputId": "63aa91b6-7584-4ff1-b2f0-29408e0714ef"
      },
      "source": [
        "# 1次の独立性の検定 変数Y2\n",
        "print(est.test_conditional_independence(\n",
        "    'Y2', 'Y3', ['Y4'], method=\"chi_square\", tol=0.05))\n",
        "print(est.test_conditional_independence(\n",
        "    'Y2', 'Y4', ['Y3'], method=\"chi_square\", tol=0.05))\n"
      ],
      "execution_count": 29,
      "outputs": [
        {
          "output_type": "stream",
          "text": [
            "False\n",
            "True\n"
          ],
          "name": "stdout"
        }
      ]
    },
    {
      "cell_type": "code",
      "metadata": {
        "id": "5qn5-JxwgJnE",
        "colab": {
          "base_uri": "https://localhost:8080/"
        },
        "outputId": "b7345464-d687-497b-ee9e-2340244c7762"
      },
      "source": [
        "# 1次の独立性の検定 変数Y3\n",
        "print(est.test_conditional_independence(\n",
        "    'Y3', 'Y', ['Y2'], method=\"chi_square\", tol=0.05))\n",
        "print(est.test_conditional_independence(\n",
        "    'Y3', 'Y', ['Y4'], method=\"chi_square\", tol=0.05))\n",
        "\n",
        "print(est.test_conditional_independence(\n",
        "    'Y3', 'Y2', ['Y'], method=\"chi_square\", tol=0.05))\n",
        "print(est.test_conditional_independence(\n",
        "    'Y3', 'Y2', ['Y4'], method=\"chi_square\", tol=0.05))\n",
        "\n",
        "print(est.test_conditional_independence(\n",
        "    'Y3', 'Y4', ['Y'], method=\"chi_square\", tol=0.05))\n",
        "print(est.test_conditional_independence(\n",
        "    'Y3', 'Y4', ['Y2'], method=\"chi_square\", tol=0.05))\n"
      ],
      "execution_count": 30,
      "outputs": [
        {
          "output_type": "stream",
          "text": [
            "False\n",
            "False\n",
            "False\n",
            "False\n",
            "False\n",
            "False\n"
          ],
          "name": "stdout"
        }
      ]
    },
    {
      "cell_type": "code",
      "metadata": {
        "colab": {
          "base_uri": "https://localhost:8080/"
        },
        "id": "6TnWY6sZmlmp",
        "outputId": "019983dc-9896-41ba-984a-e4c3bd84d338"
      },
      "source": [
        "# 2020年7月24日追記\n",
        "# 2次の独立性の検定 変数Y\n",
        "\n",
        "print(est.test_conditional_independence(\n",
        "    'Y', 'x', ['Z', 'Y3'], method=\"chi_square\", tol=0.05))\n",
        "print(est.test_conditional_independence(\n",
        "    'Y', 'Z', ['x', 'Y3'], method=\"chi_square\", tol=0.05))\n",
        "print(est.test_conditional_independence(\n",
        "    'Y', 'Y3', ['x', 'Z'], method=\"chi_square\", tol=0.05))"
      ],
      "execution_count": 32,
      "outputs": [
        {
          "output_type": "stream",
          "text": [
            "False\n",
            "False\n",
            "False\n"
          ],
          "name": "stdout"
        }
      ]
    },
    {
      "cell_type": "code",
      "metadata": {
        "id": "dFA5qoZ7Ldgg",
        "colab": {
          "base_uri": "https://localhost:8080/"
        },
        "outputId": "cb925412-0fa6-4917-f6cf-782845799461"
      },
      "source": [
        "# オリエンテーション・フェーズ1での方向づけ\n",
        "# x-Y-Y3\n",
        "print(est.test_conditional_independence(\n",
        "    'x', 'Y3', ['Y'], method=\"chi_square\", tol=0.05))\n",
        "\n",
        "# Z-Y-Y3\n",
        "print(est.test_conditional_independence(\n",
        "    'Z', 'Y3', ['Y'], method=\"chi_square\", tol=0.05))\n",
        "\n",
        "# Y-Y3-Y2\n",
        "print(est.test_conditional_independence(\n",
        "    'Y', 'Y2', ['Y3'], method=\"chi_square\", tol=0.05))\n",
        "\n",
        "# Y2-Y3-Y4\n",
        "print(est.test_conditional_independence(\n",
        "    'Y2', 'Y4', ['Y3'], method=\"chi_square\", tol=0.05))\n",
        "\n",
        "# Y -> Y3 <- Y2 だけ決まる\n"
      ],
      "execution_count": 33,
      "outputs": [
        {
          "output_type": "stream",
          "text": [
            "True\n",
            "True\n",
            "False\n",
            "True\n"
          ],
          "name": "stdout"
        }
      ]
    },
    {
      "cell_type": "code",
      "metadata": {
        "id": "kMW1M3YbMi3h",
        "colab": {
          "base_uri": "https://localhost:8080/"
        },
        "outputId": "92c4c19b-c471-41b0-98af-20c5715caaa6"
      },
      "source": [
        "# 最後上の三角形が決まらない\n",
        "# BICを求め、比較\n",
        "from pgmpy.models import BayesianModel\n",
        "from pgmpy.estimators import BicScore\n",
        "\n",
        "model = BayesianModel([('x', 'Z'), ('x', 'Y'), ('Z', 'Y'), ('Y', 'Y3'), ('Y2', 'Y3'), ('Y3', 'Y4')])  \n",
        "print(BicScore(df_bin).score(model))\n",
        "\n",
        "model = BayesianModel([('x', 'Z'), ('x', 'Y'), ('Y', 'Z'), ('Y', 'Y3'), ('Y2', 'Y3'), ('Y3', 'Y4')])  \n",
        "print(BicScore(df_bin).score(model))\n",
        "\n",
        "model = BayesianModel([('Z', 'x'), ('Z', 'Y'), ('x', 'Y'), ('Y', 'Y3'), ('Y2', 'Y3'), ('Y3', 'Y4')])  \n",
        "print(BicScore(df_bin).score(model))\n",
        "\n",
        "model = BayesianModel([('Z', 'x'), ('Z', 'Y'), ('Y', 'x'), ('Y', 'Y3'), ('Y2', 'Y3'), ('Y3', 'Y4')])  \n",
        "print(BicScore(df_bin).score(model))\n",
        "\n",
        "model = BayesianModel([('Y', 'x'), ('Y', 'Z'), ('x', 'Z'), ('Y', 'Y3'), ('Y2', 'Y3'), ('Y3', 'Y4')])  \n",
        "print(BicScore(df_bin).score(model))\n",
        "\n",
        "model = BayesianModel([('Y', 'x'), ('Y', 'Z'), ('Z', 'x'), ('Y', 'Y3'), ('Y2', 'Y3'), ('Y3', 'Y4')])  \n",
        "print(BicScore(df_bin).score(model))"
      ],
      "execution_count": 34,
      "outputs": [
        {
          "output_type": "stream",
          "text": [
            "-12095.447216914788\n",
            "-12095.447216914788\n",
            "-12095.447216914785\n",
            "-12095.447216914788\n",
            "-12095.447216914788\n",
            "-12095.447216914788\n"
          ],
          "name": "stdout"
        }
      ]
    },
    {
      "cell_type": "code",
      "metadata": {
        "id": "DP8gHiu7lBDi"
      },
      "source": [
        "# 最後は限られたデータから無理に因果の方向性を決めようとせず、時間的に考えて、無難な方向性を当てはめる"
      ],
      "execution_count": 35,
      "outputs": []
    },
    {
      "cell_type": "code",
      "metadata": {
        "id": "HWvE9F0nfWKv",
        "colab": {
          "base_uri": "https://localhost:8080/"
        },
        "outputId": "9402f110-6150-4eb4-af28-3b5c7167aad2"
      },
      "source": [
        "# 2020年7月24日追記\n",
        "# pgmpyでPCアルゴリズムの実行\n",
        "\n",
        "skel, seperating_sets = est.estimate_skeleton(significance_level=0.05)\n",
        "print(\"Undirected edges: \", skel.edges())\n",
        "\n",
        "pdag = est.skeleton_to_pdag(skel, seperating_sets)\n",
        "print(\"PDAG edges:       \", pdag.edges())\n",
        "\n",
        "model = est.pdag_to_dag(pdag)\n",
        "print(\"DAG edges:        \", model.edges())\n"
      ],
      "execution_count": 36,
      "outputs": [
        {
          "output_type": "stream",
          "text": [
            "Undirected edges:  [('x', 'Z'), ('x', 'Y'), ('Z', 'Y'), ('Y', 'Y4'), ('Y2', 'Y3'), ('Y3', 'Y4')]\n",
            "PDAG edges:        [('x', 'Z'), ('x', 'Y'), ('Z', 'x'), ('Z', 'Y'), ('Y', 'x'), ('Y', 'Z'), ('Y', 'Y4'), ('Y2', 'Y3'), ('Y3', 'Y2'), ('Y3', 'Y4'), ('Y4', 'Y'), ('Y4', 'Y3')]\n",
            "DAG edges:         [('Z', 'x'), ('Y', 'x'), ('Y', 'Z'), ('Y3', 'Y2'), ('Y4', 'Y'), ('Y4', 'Y3')]\n"
          ],
          "name": "stdout"
        }
      ]
    },
    {
      "cell_type": "markdown",
      "metadata": {
        "id": "VQs6FwtelB2E"
      },
      "source": [
        "## ベイジアンネットワークでの推論"
      ]
    },
    {
      "cell_type": "code",
      "metadata": {
        "id": "_OGwPSHbjOV1",
        "colab": {
          "base_uri": "https://localhost:8080/"
        },
        "outputId": "dedac92c-fc56-42b9-fb95-690ad91f01ba"
      },
      "source": [
        "from pgmpy.models import BayesianModel\n",
        "from pgmpy.inference import VariableElimination\n",
        "\n",
        "# モデルを構築\n",
        "model = BayesianModel([('x', 'Z'), ('x', 'Y'), ('Z', 'Y'),\n",
        "                       ('Y', 'Y3'), ('Y2', 'Y3'), ('Y3', 'Y4')])\n",
        "# モデルにデータを与える\n",
        "model.fit(df_bin)\n",
        "\n",
        "# 変数消去アルゴリズムで推論\n",
        "infer = VariableElimination(model)\n",
        "obserbed_data = {'Z': 0, 'Y3': 3}  # 観測できているデータの一例\n",
        "x_dist = infer.query(['x'], evidence=obserbed_data)\n",
        "print(x_dist)\n",
        "print(\"=====================\")\n",
        "obserbed_data = {'Z': 1, 'Y3': 3}  # 観測できているデータの一例\n",
        "x_dist = infer.query(['x'], evidence=obserbed_data)\n",
        "print(x_dist)\n",
        "print(\"=====================\")\n",
        "obserbed_data = {'Z': 1, 'Y3': 5}  # 観測できているデータの一例\n",
        "x_dist = infer.query(['x'], evidence=obserbed_data)\n",
        "print(x_dist)\n"
      ],
      "execution_count": 39,
      "outputs": [
        {
          "output_type": "stream",
          "text": [
            "Finding Elimination Order: : 100%|██████████| 3/3 [00:00<00:00, 584.25it/s]\n",
            "Eliminating: Y: 100%|██████████| 3/3 [00:00<00:00, 231.53it/s]\n",
            "Finding Elimination Order: : 100%|██████████| 3/3 [00:00<00:00, 626.80it/s]\n",
            "Eliminating: Y: 100%|██████████| 3/3 [00:00<00:00, 356.02it/s]\n",
            "Finding Elimination Order: : 100%|██████████| 3/3 [00:00<00:00, 413.53it/s]\n",
            "Eliminating: Y: 100%|██████████| 3/3 [00:00<00:00, 245.09it/s]"
          ],
          "name": "stderr"
        },
        {
          "output_type": "stream",
          "text": [
            "+------+----------+\n",
            "| x    |   phi(x) |\n",
            "+======+==========+\n",
            "| x(1) |   0.3196 |\n",
            "+------+----------+\n",
            "| x(2) |   0.2313 |\n",
            "+------+----------+\n",
            "| x(3) |   0.2056 |\n",
            "+------+----------+\n",
            "| x(4) |   0.1409 |\n",
            "+------+----------+\n",
            "| x(5) |   0.1027 |\n",
            "+------+----------+\n",
            "=====================\n",
            "+------+----------+\n",
            "| x    |   phi(x) |\n",
            "+======+==========+\n",
            "| x(1) |   0.1255 |\n",
            "+------+----------+\n",
            "| x(2) |   0.1385 |\n",
            "+------+----------+\n",
            "| x(3) |   0.2716 |\n",
            "+------+----------+\n",
            "| x(4) |   0.2496 |\n",
            "+------+----------+\n",
            "| x(5) |   0.2147 |\n",
            "+------+----------+\n",
            "=====================\n",
            "+------+----------+\n",
            "| x    |   phi(x) |\n",
            "+======+==========+\n",
            "| x(1) |   0.0070 |\n",
            "+------+----------+\n",
            "| x(2) |   0.0123 |\n",
            "+------+----------+\n",
            "| x(3) |   0.0762 |\n",
            "+------+----------+\n",
            "| x(4) |   0.2497 |\n",
            "+------+----------+\n",
            "| x(5) |   0.6547 |\n",
            "+------+----------+\n"
          ],
          "name": "stdout"
        },
        {
          "output_type": "stream",
          "text": [
            "\n"
          ],
          "name": "stderr"
        }
      ]
    },
    {
      "cell_type": "code",
      "metadata": {
        "id": "UNbNZ8DFuQNF"
      },
      "source": [
        "# 以下はファイルをダウンロードしたい場合に使用\n",
        "\n",
        "# from google.colab import files\n",
        "# df_bin.to_csv(\"df_bin.csv\")\n",
        "# files.download('df_bin.csv')\n"
      ],
      "execution_count": null,
      "outputs": []
    },
    {
      "cell_type": "markdown",
      "metadata": {
        "id": "MGNG7pzi8LI6"
      },
      "source": [
        "以上"
      ]
    }
  ]
}