{
 "cells": [
  {
   "attachments": {},
   "cell_type": "markdown",
   "metadata": {},
   "source": [
    "## プログラム実行前の設定など"
   ]
  },
  {
   "cell_type": "code",
   "execution_count": 14,
   "metadata": {},
   "outputs": [],
   "source": [
    "# 乱数のシードを設定\n",
    "import random\n",
    "import numpy as np\n",
    "\n",
    "np.random.seed(1234)\n",
    "random.seed(1234)\n"
   ]
  },
  {
   "cell_type": "code",
   "execution_count": 15,
   "metadata": {},
   "outputs": [],
   "source": [
    "# 使用するパッケージ（ライブラリと関数）を定義\n",
    "# 標準正規分布の生成用\n",
    "from numpy.random import *\n",
    "\n",
    "# グラフの描画用\n",
    "import matplotlib.pyplot as plt\n",
    "\n",
    "# SciPy 平均0、分散1に正規化（標準化）関数\n",
    "import scipy.stats\n",
    "\n",
    "# シグモイド関数をimport\n",
    "from scipy.special import expit\n",
    "\n",
    "# その他\n",
    "import pandas as pd\n"
   ]
  },
  {
   "attachments": {},
   "cell_type": "markdown",
   "metadata": {},
   "source": [
    "## データの作成"
   ]
  },
  {
   "cell_type": "code",
   "execution_count": 16,
   "metadata": {},
   "outputs": [],
   "source": [
    "# データ数\n",
    "num_data = 200\n",
    "\n",
    "# 年齢\n",
    "x_1 = randint(15, 76, num_data)  # 15から75歳の一様乱数\n",
    "\n",
    "# 性別（0を女性、1を男性とします）\n",
    "x_2 = randint(0, 2, num_data)  # 0か1の乱数\n"
   ]
  },
  {
   "attachments": {},
   "cell_type": "markdown",
   "metadata": {},
   "source": [
    "## テレビCMを見たかどうか"
   ]
  },
  {
   "cell_type": "code",
   "execution_count": 17,
   "metadata": {},
   "outputs": [],
   "source": [
    "# ノイズの生成\n",
    "e_z = randn(num_data)\n",
    "\n",
    "# シグモイド関数に入れる部分\n",
    "z_base = x_1 + (1-x_2)*10 - 40 + 5*e_z\n",
    "\n",
    "# シグモイド関数を計算\n",
    "z_prob = expit(0.1*z_base)\n",
    "\n",
    "# テレビCMを見たかどうかの変数（0は見ていない、1は見た）\n",
    "Z = np.array([])\n",
    "\n",
    "for i in range(num_data):\n",
    "    Z_i = np.random.choice(2, size=1, p=[1-z_prob[i], z_prob[i]])[0]\n",
    "    Z = np.append(Z, Z_i)\n"
   ]
  },
  {
   "attachments": {},
   "cell_type": "markdown",
   "metadata": {},
   "source": [
    "## 購入量Yを作成"
   ]
  },
  {
   "cell_type": "code",
   "execution_count": 18,
   "metadata": {},
   "outputs": [],
   "source": [
    "# ノイズの生成\n",
    "e_y = randn(num_data)\n",
    "\n",
    "Y = -x_1 + 30*x_2 + 10*Z + 80 + 10*e_y\n"
   ]
  },
  {
   "attachments": {},
   "cell_type": "markdown",
   "metadata": {},
   "source": [
    "## データをまとめた表を作成し、平均値を比べる"
   ]
  },
  {
   "cell_type": "code",
   "execution_count": 19,
   "metadata": {},
   "outputs": [
    {
     "data": {
      "text/html": [
       "<div>\n",
       "<style scoped>\n",
       "    .dataframe tbody tr th:only-of-type {\n",
       "        vertical-align: middle;\n",
       "    }\n",
       "\n",
       "    .dataframe tbody tr th {\n",
       "        vertical-align: top;\n",
       "    }\n",
       "\n",
       "    .dataframe thead th {\n",
       "        text-align: right;\n",
       "    }\n",
       "</style>\n",
       "<table border=\"1\" class=\"dataframe\">\n",
       "  <thead>\n",
       "    <tr style=\"text-align: right;\">\n",
       "      <th></th>\n",
       "      <th>年齢</th>\n",
       "      <th>性別</th>\n",
       "      <th>CMを見た</th>\n",
       "      <th>購入量</th>\n",
       "    </tr>\n",
       "  </thead>\n",
       "  <tbody>\n",
       "    <tr>\n",
       "      <th>0</th>\n",
       "      <td>62</td>\n",
       "      <td>0</td>\n",
       "      <td>1.0</td>\n",
       "      <td>24.464285</td>\n",
       "    </tr>\n",
       "    <tr>\n",
       "      <th>1</th>\n",
       "      <td>34</td>\n",
       "      <td>0</td>\n",
       "      <td>0.0</td>\n",
       "      <td>45.693411</td>\n",
       "    </tr>\n",
       "    <tr>\n",
       "      <th>2</th>\n",
       "      <td>53</td>\n",
       "      <td>1</td>\n",
       "      <td>1.0</td>\n",
       "      <td>64.998281</td>\n",
       "    </tr>\n",
       "    <tr>\n",
       "      <th>3</th>\n",
       "      <td>68</td>\n",
       "      <td>1</td>\n",
       "      <td>1.0</td>\n",
       "      <td>47.186898</td>\n",
       "    </tr>\n",
       "    <tr>\n",
       "      <th>4</th>\n",
       "      <td>27</td>\n",
       "      <td>1</td>\n",
       "      <td>0.0</td>\n",
       "      <td>100.114260</td>\n",
       "    </tr>\n",
       "  </tbody>\n",
       "</table>\n",
       "</div>"
      ],
      "text/plain": [
       "   年齢  性別  CMを見た         購入量\n",
       "0  62   0    1.0   24.464285\n",
       "1  34   0    0.0   45.693411\n",
       "2  53   1    1.0   64.998281\n",
       "3  68   1    1.0   47.186898\n",
       "4  27   1    0.0  100.114260"
      ]
     },
     "execution_count": 19,
     "metadata": {},
     "output_type": "execute_result"
    }
   ],
   "source": [
    "df = pd.DataFrame({'年齢': x_1,\n",
    "                   '性別': x_2,\n",
    "                   'CMを見た': Z,\n",
    "                   '購入量': Y,\n",
    "                   })\n",
    "\n",
    "df.head()  # 先頭を表示\n"
   ]
  },
  {
   "cell_type": "code",
   "execution_count": 20,
   "metadata": {},
   "outputs": [
    {
     "name": "stdout",
     "output_type": "stream",
     "text": [
      "年齢       55.836066\n",
      "性別        0.483607\n",
      "CMを見た     1.000000\n",
      "購入量      49.711478\n",
      "dtype: float64\n",
      "--------\n",
      "年齢       32.141026\n",
      "性別        0.692308\n",
      "CMを見た     0.000000\n",
      "購入量      68.827143\n",
      "dtype: float64\n"
     ]
    }
   ],
   "source": [
    "# 平均値を比べる\n",
    "\n",
    "print(df[df[\"CMを見た\"] == 1.0].mean())\n",
    "print(\"--------\")\n",
    "print(df[df[\"CMを見た\"] == 0.0].mean())\n"
   ]
  },
  {
   "attachments": {},
   "cell_type": "markdown",
   "metadata": {},
   "source": [
    "## ここからが4.1節と異なります。傾向スコアの推定"
   ]
  },
  {
   "cell_type": "code",
   "execution_count": 8,
   "metadata": {},
   "outputs": [
    {
     "name": "stdout",
     "output_type": "stream",
     "text": [
      "係数beta: [[ 0.10562765 -1.38263933]]\n",
      "係数alpha [-3.37146523]\n"
     ]
    }
   ],
   "source": [
    "from sklearn.linear_model import LogisticRegression\n",
    "\n",
    "# 説明変数\n",
    "X = df[[\"年齢\", \"性別\"]]\n",
    "\n",
    "# 被説明変数\n",
    "Z = df[\"CMを見た\"]\n",
    "\n",
    "# 回帰の実施\n",
    "reg = LogisticRegression().fit(X,Z)\n",
    "\n",
    "# 回帰した結果の係数を出力\n",
    "print(\"係数beta:\", reg.coef_)\n",
    "print(\"係数alpha\", reg.intercept_)"
   ]
  },
  {
   "attachments": {},
   "cell_type": "markdown",
   "metadata": {},
   "source": [
    "## 各人の傾向スコアを求める"
   ]
  },
  {
   "cell_type": "code",
   "execution_count": 21,
   "metadata": {},
   "outputs": [
    {
     "name": "stdout",
     "output_type": "stream",
     "text": [
      "[[0.04002323 0.95997677]\n",
      " [0.44525168 0.55474832]\n",
      " [0.30065918 0.69934082]\n",
      " [0.08101946 0.91898054]\n",
      " [0.87013558 0.12986442]]\n",
      "----\n",
      "[1. 0. 1. 1. 0.]\n"
     ]
    }
   ],
   "source": [
    "Z_pre = reg.predict_proba(X)\n",
    "print(Z_pre[0:5])\n",
    "print(\"----\")\n",
    "print(Z[0:5])"
   ]
  },
  {
   "attachments": {},
   "cell_type": "markdown",
   "metadata": {},
   "source": [
    "## 平均処置効果ATEを求める"
   ]
  },
  {
   "cell_type": "code",
   "execution_count": 22,
   "metadata": {},
   "outputs": [
    {
     "name": "stdout",
     "output_type": "stream",
     "text": [
      "推定したATE 33.38275576046172\n"
     ]
    }
   ],
   "source": [
    "ATE_i = Y/Z_pre[:,1]*Z - Y/Z_pre[:,0]*Z_pre[:,0]*(1-Z)\n",
    "ATE = 1/len(Y)*ATE_i.sum()\n",
    "print(\"推定したATE\", ATE)"
   ]
  },
  {
   "cell_type": "code",
   "execution_count": null,
   "metadata": {},
   "outputs": [],
   "source": []
  },
  {
   "cell_type": "code",
   "execution_count": null,
   "metadata": {},
   "outputs": [],
   "source": []
  }
 ],
 "metadata": {
  "kernelspec": {
   "display_name": "base",
   "language": "python",
   "name": "python3"
  },
  "language_info": {
   "codemirror_mode": {
    "name": "ipython",
    "version": 3
   },
   "file_extension": ".py",
   "mimetype": "text/x-python",
   "name": "python",
   "nbconvert_exporter": "python",
   "pygments_lexer": "ipython3",
   "version": "3.7.12"
  },
  "orig_nbformat": 4
 },
 "nbformat": 4,
 "nbformat_minor": 2
}
